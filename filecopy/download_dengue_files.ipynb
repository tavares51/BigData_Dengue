{
 "cells": [
  {
   "cell_type": "code",
   "execution_count": 0,
   "metadata": {
    "application/vnd.databricks.v1+cell": {
     "cellMetadata": {
      "byteLimit": 2048000,
      "rowLimit": 10000
     },
     "inputWidgets": {},
     "nuid": "357ddab8-8c27-45f0-ac44-aac87d373912",
     "showTitle": false,
     "title": ""
    }
   },
   "outputs": [],
   "source": [
    "from pyspark.sql import SparkSession\n",
    "import pyspark.sql.functions as f\n",
    "from pyspark.sql.types import StructType, StructField, StringType, LongType, DoubleType, IntegerType, ArrayType, DateType\n",
    "import sys\n",
    "import os\n",
    "from delta import DeltaTable\n",
    "from pyspark.sql import DataFrame\n",
    "from pyspark.sql.utils import AnalysisException\n",
    "from delta.tables import *\n",
    "import io\n",
    "import json"
   ]
  },
  {
   "cell_type": "code",
   "execution_count": 0,
   "metadata": {
    "application/vnd.databricks.v1+cell": {
     "cellMetadata": {
      "byteLimit": 2048000,
      "rowLimit": 10000
     },
     "inputWidgets": {},
     "nuid": "5043ae96-ddff-437e-aa3b-f9177761317e",
     "showTitle": false,
     "title": ""
    }
   },
   "outputs": [],
   "source": [
    "def create_spark_session():\n",
    "    return SparkSession \\\n",
    "        .builder \\\n",
    "        .appName(\"File Streaming Demo\") \\\n",
    "        .master(\"local[3]\") \\\n",
    "        .config(\"spark.databricks.delta.schema.autoMerge.enabled\", \"true\")\\\n",
    "        .config(\"spark.sql.catalog.spark_catalog\", \"org.apache.spark.sql.delta.catalog.DeltaCatalog\") \\\n",
    "        .enableHiveSupport()\\\n",
    "        .getOrCreate()"
   ]
  },
  {
   "cell_type": "code",
   "execution_count": 0,
   "metadata": {
    "application/vnd.databricks.v1+cell": {
     "cellMetadata": {
      "byteLimit": 2048000,
      "rowLimit": 10000
     },
     "inputWidgets": {},
     "nuid": "c02ee5c7-8b54-4f00-a014-fe5dbe0e70d8",
     "showTitle": false,
     "title": ""
    }
   },
   "outputs": [],
   "source": [
    "spark = create_spark_session()"
   ]
  },
  {
   "cell_type": "code",
   "execution_count": 0,
   "metadata": {
    "application/vnd.databricks.v1+cell": {
     "cellMetadata": {
      "byteLimit": 2048000,
      "rowLimit": 10000
     },
     "inputWidgets": {},
     "nuid": "428a0ac3-77e4-428c-a137-49011247f20f",
     "showTitle": false,
     "title": ""
    }
   },
   "outputs": [
    {
     "output_type": "stream",
     "name": "stdout",
     "output_type": "stream",
     "text": [
      "Fim\n"
     ]
    }
   ],
   "source": [
    "try:\n",
    "    dbutils.fs.rm('dbfs:/FileStore/transient/dados_degue/',True)\n",
    "    dbutils.fs.mkdirs('dbfs:/FileStore/transient/dados_degue/')\n",
    "    dbutils.fs.mkdirs('dbfs:/FileStore/transient/dados_degue/casos_dengue/')\n",
    "    dbutils.fs.mkdirs('dbfs:/FileStore/transient/dados_degue/chuvas')\n",
    "except:\n",
    "    print(\"Erro\")\n",
    "finally:\n",
    "    print(\"Fim\")\n"
   ]
  },
  {
   "cell_type": "code",
   "execution_count": 0,
   "metadata": {
    "application/vnd.databricks.v1+cell": {
     "cellMetadata": {
      "byteLimit": 2048000,
      "rowLimit": 10000
     },
     "inputWidgets": {},
     "nuid": "a5a6d60b-c0fb-4017-8377-c052c93a27fb",
     "showTitle": false,
     "title": ""
    }
   },
   "outputs": [],
   "source": [
    "def download_Copy_File_dengue() :\n",
    "    url = 'https://github.com/jader-lima/pyspark_introducao/raw/dev/pyspark/datalake/transient/dengue/dados-dengue.tgz -P /tmp/'\n",
    "    ! wget $url\n",
    "    origin_chuva_2015 = \"file:/tmp/chuva_2015.csv\"\n",
    "    origin_chuva_2016 = \"file:/tmp/chuva_2016.csv\"\n",
    "    origin_chuva_2017 = \"file:/tmp/chuva_2017.csv\"\n",
    "    origin_chuva_2018 = \"file:/tmp/chuva_2018.csv\"\n",
    "    origin_chuva_2019 = \"file:/tmp/chuva_2019.csv\"\n",
    "    origin_dengue = \"file:/tmp/casos_dengue.txt\"\n",
    "    sink_chuva_2015 = \"/FileStore/transient/dados_degue/chuvas/chuva_2015.csv\"\n",
    "    sink_chuva_2016 = \"/FileStore/transient/dados_degue/chuvas/chuva_2016.csv\"\n",
    "    sink_chuva_2017 = \"/FileStore/transient/dados_degue/chuvas/chuva_2017.csv\"\n",
    "    sink_chuva_2018 = \"/FileStore/transient/dados_degue/chuvas/chuva_2018.csv\"\n",
    "    sink_chuva_2019 = \"/FileStore/transient/dados_degue/chuvas/chuva_2019.csv\"\n",
    "    sink_dengue = \"/FileStore/transient/dados_degue/casos_dengue/casos_dengue.csv\"\n",
    "    ! tar -zxf /tmp/dados-dengue.tgz  --directory /tmp/\n",
    "    dbutils.fs.cp(origin_chuva_2015, sink_chuva_2015)   \n",
    "    dbutils.fs.cp(origin_chuva_2016, sink_chuva_2016)  \n",
    "    dbutils.fs.cp(origin_chuva_2017, sink_chuva_2017)  \n",
    "    dbutils.fs.cp(origin_chuva_2018, sink_chuva_2018)  \n",
    "    dbutils.fs.cp(origin_chuva_2019, sink_chuva_2019) \n",
    "    dbutils.fs.cp(origin_dengue, sink_dengue)\n",
    "    !rm /tmp/dados-dengue.tgz\n",
    "    !rm /tmp/chuva_2015.csv\n",
    "    !rm /tmp/chuva_2016.csv\n",
    "    !rm /tmp/chuva_2017.csv\n",
    "    !rm /tmp/chuva_2018.csv\n",
    "    !rm /tmp/chuva_2019.csv\n",
    "    !rm /tmp/casos_dengue.txt"
   ]
  },
  {
   "cell_type": "code",
   "execution_count": 0,
   "metadata": {
    "application/vnd.databricks.v1+cell": {
     "cellMetadata": {
      "byteLimit": 2048000,
      "rowLimit": 10000
     },
     "inputWidgets": {},
     "nuid": "cfda7fb2-e624-4fa2-a61d-ee0c44f2c613",
     "showTitle": false,
     "title": ""
    }
   },
   "outputs": [
    {
     "output_type": "stream",
     "name": "stdout",
     "output_type": "stream",
     "text": [
      "--2024-03-07 22:01:48--  https://github.com/jader-lima/pyspark_introducao/raw/dev/pyspark/datalake/transient/dengue/dados-dengue.tgz\r\nResolving github.com (github.com)... 192.30.255.113\r\nConnecting to github.com (github.com)|192.30.255.113|:443... connected.\r\nHTTP request sent, awaiting response... 302 Found\r\nLocation: https://raw.githubusercontent.com/jader-lima/pyspark_introducao/dev/pyspark/datalake/transient/dengue/dados-dengue.tgz [following]\r\n--2024-03-07 22:01:48--  https://raw.githubusercontent.com/jader-lima/pyspark_introducao/dev/pyspark/datalake/transient/dengue/dados-dengue.tgz\r\nResolving raw.githubusercontent.com (raw.githubusercontent.com)... 185.199.110.133, 185.199.111.133, 185.199.108.133, ...\r\nConnecting to raw.githubusercontent.com (raw.githubusercontent.com)|185.199.110.133|:443... connected.\r\nHTTP request sent, awaiting response... 200 OK\r\nLength: 10072573 (9.6M) [application/octet-stream]\r\nSaving to: ‘/tmp/dados-dengue.tgz’\r\n\r\n\rdados-dengue.tgz      0%[                    ]       0  --.-KB/s               \rdados-dengue.tgz    100%[===================>]   9.61M  --.-KB/s    in 0.1s    \r\n\r\n2024-03-07 22:01:49 (75.0 MB/s) - ‘/tmp/dados-dengue.tgz’ saved [10072573/10072573]\r\n\r\n"
     ]
    }
   ],
   "source": [
    "download_Copy_File_dengue()"
   ]
  },
  {
   "cell_type": "code",
   "execution_count": 0,
   "metadata": {
    "application/vnd.databricks.v1+cell": {
     "cellMetadata": {
      "byteLimit": 2048000,
      "rowLimit": 10000
     },
     "inputWidgets": {},
     "nuid": "737c95c1-cd9e-4284-8b17-11a642040d04",
     "showTitle": false,
     "title": ""
    }
   },
   "outputs": [
    {
     "output_type": "stream",
     "name": "stdout",
     "output_type": "stream",
     "text": [
      "Out[14]: Package 'dbutils'. For more information, type 'dbutils.help()' in a cell."
     ]
    }
   ],
   "source": [
    "dbutils"
   ]
  }
 ],
 "metadata": {
  "application/vnd.databricks.v1+notebook": {
   "dashboards": [],
   "language": "python",
   "notebookMetadata": {
    "pythonIndentUnit": 4
   },
   "notebookName": "download_dengue_files",
   "widgets": {}
  }
 },
 "nbformat": 4,
 "nbformat_minor": 0
}
